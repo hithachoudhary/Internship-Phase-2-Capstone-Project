{
 "cells": [
  {
   "cell_type": "markdown",
   "id": "0b3b170d",
   "metadata": {},
   "source": [
    "<div style=\"background-color: #CD5C5C; padding: 20px; border-radius: 10px; box-shadow: 5px 5px 10px #888888;\">\n",
    "  <h1 style=\"color: white; font-size: 30px; font-weight: bold; text-align: center; text-shadow: 2px 2px 4px #000000;\">Sports Data Analysis: Problem Statement 6\n",
    "</h1>\n",
    "</div>"
   ]
  },
  {
   "cell_type": "markdown",
   "id": "b73bd132",
   "metadata": {},
   "source": [
    "### 1. Creation of tables using MySQL workbench  \n",
    "\n",
    "The tables that are required for the database was created using MySQL Workbench and succesfully loaded the data from the csv file to the tables created"
   ]
  },
  {
   "cell_type": "code",
   "execution_count": 8,
   "id": "424c1b7b",
   "metadata": {},
   "outputs": [
    {
     "name": "stdout",
     "output_type": "stream",
     "text": [
      "The tables present in the database:\n",
      "('football_data',)\n",
      "('playerdetails',)\n",
      "('playermatchstats',)\n",
      "('playerperformancemetrics',)\n"
     ]
    }
   ],
   "source": [
    "import pandas as pd\n",
    "import mysql.connector\n",
    "from mysql.connector import Error\n",
    "\n",
    "mydb = mysql.connector.connect(\n",
    "    host=\"localhost\",\n",
    "    user=\"root\",\n",
    "    password=\"HithaChoudhary.21\",\n",
    "    database=\"sports_data\",\n",
    "    port='3307')\n",
    " \n",
    "mycursor = mydb.cursor()\n",
    "mycursor.execute(\"Show tables;\")\n",
    "myresult = mycursor.fetchall()\n",
    "print(\"The tables present in the database:\")\n",
    "for x in myresult:\n",
    "    print(x)"
   ]
  },
  {
   "cell_type": "markdown",
   "id": "c07836d6",
   "metadata": {},
   "source": [
    "### 2. Advanced sql features like CTEs-Common Table Expression  \n",
    "\n",
    "Executing an example usage of CTE for representing top players in the dataset"
   ]
  },
  {
   "cell_type": "code",
   "execution_count": 5,
   "id": "45f779cd",
   "metadata": {},
   "outputs": [
    {
     "name": "stdout",
     "output_type": "stream",
     "text": [
      "Top Players:\n",
      "(15787, 'Player C', 'Team B', 50, 1)\n",
      "(16047, 'Player C', 'Team C', 50, 2)\n",
      "(16425, 'Player C', 'Team A', 50, 3)\n",
      "(10869, 'Player B', 'Team C', 50, 4)\n",
      "(10897, 'Player D', 'Team C', 50, 5)\n",
      "(10944, 'Player B', 'Team A', 50, 6)\n",
      "(11163, 'Player A', 'Team B', 50, 7)\n",
      "(11487, 'Player B', 'Team A', 50, 8)\n",
      "(12046, 'Player C', 'Team A', 50, 9)\n",
      "(12562, 'Player D', 'Team A', 50, 10)\n",
      "MySQL connection is closed\n",
      "top_players created\n"
     ]
    }
   ],
   "source": [
    "def create_top_players():\n",
    "    try:\n",
    "        conn = mysql.connector.connect(\n",
    "            host=\"localhost\",\n",
    "            user=\"root\",\n",
    "            password=\"HithaChoudhary.21\",\n",
    "            database=\"sports_data\",\n",
    "            port='3307'\n",
    "        )\n",
    "\n",
    "        #Create cursor\n",
    "        cursor = conn.cursor()\n",
    "        #Define the CTE query to select top players\n",
    "        cte_query = \"\"\"\n",
    "            WITH TopPlayer AS (\n",
    "                SELECT\n",
    "                    ID,\n",
    "                    Player,\n",
    "                    Team,\n",
    "                    Goals,\n",
    "                    Season,\n",
    "                    ROW_NUMBER() OVER (ORDER BY Goals DESC) AS PlayerRank\n",
    "                FROM\n",
    "                    football_data\n",
    "            )\n",
    "            SELECT\n",
    "               ID,\n",
    "                Player,\n",
    "                Team,\n",
    "                Goals,\n",
    "                PlayerRank\n",
    "            FROM\n",
    "                TopPlayer\n",
    "            WHERE\n",
    "                PlayerRank <= 10\n",
    "        \"\"\"\n",
    "        cursor.execute(cte_query)\n",
    "        top_players = cursor.fetchall()\n",
    "        print(\"Top Players:\")\n",
    "        for player in top_players:\n",
    "            print(player)\n",
    "\n",
    "    except mysql.connector.Error as error:\n",
    "        print(\"Error:\", error)\n",
    "\n",
    "    finally:\n",
    "        if conn.is_connected():\n",
    "            cursor.close()\n",
    "            conn.close()\n",
    "            print(\"MySQL connection is closed\")\n",
    "\n",
    "# Call the function to create the CTE for top players\n",
    "create_top_players()\n",
    "print('top_players created')"
   ]
  },
  {
   "cell_type": "markdown",
   "id": "e363b320",
   "metadata": {},
   "source": [
    "### 3. Complex Analytical Queries  \n",
    "\n",
    "Ensuring that the data stored supports complex analytical queries by executing them "
   ]
  },
  {
   "cell_type": "markdown",
   "id": "9614fbbd",
   "metadata": {},
   "source": [
    "#### 3.1 Average goals per Match  \n",
    "Calculating the average goals per match"
   ]
  },
  {
   "cell_type": "code",
   "execution_count": 15,
   "id": "06cd5321",
   "metadata": {},
   "outputs": [
    {
     "name": "stdout",
     "output_type": "stream",
     "text": [
      "Defender: 12.95 goals per match on average\n",
      "Forward: 12.45 goals per match on average\n",
      "Goalkeeper: 12.77 goals per match on average\n",
      "Midfielder: 12.79 goals per match on average\n"
     ]
    }
   ],
   "source": [
    "conn = mysql.connector.connect(\n",
    "            host=\"localhost\",\n",
    "            user=\"root\",\n",
    "            password=\"HithaChoudhary.21\",\n",
    "            database=\"sports_data\",\n",
    "            port='3307')\n",
    "cursor = conn.cursor()\n",
    "def average_goals_per_match(cursor):\n",
    "    query = \"\"\"\n",
    "        SELECT Position, AVG(Goals) AS AvgGoalsPerMatch\n",
    "        FROM football_data\n",
    "        GROUP BY Position\n",
    "    \"\"\"\n",
    "    cursor.execute(query)\n",
    "    results = cursor.fetchall()\n",
    "    return results\n",
    "\n",
    "avg_goals_by_position = average_goals_per_match(cursor)\n",
    "for position, avg_goals in avg_goals_by_position:\n",
    "    print(f\"{position}: {avg_goals:.2f} goals per match on average\")\n",
    "    \n",
    "cursor.close()\n",
    "conn.close()"
   ]
  },
  {
   "cell_type": "markdown",
   "id": "b4591e55",
   "metadata": {},
   "source": [
    "#### 3.2 Palyer Fatigue Data  \n",
    "\n",
    "Analyzing the player fatigue to identify player fatigue over time"
   ]
  },
  {
   "cell_type": "code",
   "execution_count": 21,
   "id": "09f36286",
   "metadata": {},
   "outputs": [
    {
     "name": "stdout",
     "output_type": "stream",
     "text": [
      "Avg Fatigue: 0.49435261, Max Fatigue: 0.9995, Min Fatigue: 0.0001, Num Of Players: 3800\n",
      "Avg Fatigue: 0.49893683, Max Fatigue: 0.9997, Min Fatigue: 0.0004, Num Of Players: 3918\n",
      "Avg Fatigue: 0.48533245, Max Fatigue: 0.9996, Min Fatigue: 0.0000, Num Of Players: 4216\n",
      "Avg Fatigue: 0.49273488, Max Fatigue: 0.9994, Min Fatigue: 0.0000, Num Of Players: 3908\n"
     ]
    }
   ],
   "source": [
    "conn = mysql.connector.connect(\n",
    "            host=\"localhost\",\n",
    "            user=\"root\",\n",
    "            password=\"HithaChoudhary.21\",\n",
    "            database=\"sports_data\",\n",
    "            port='3307')\n",
    "cursor = conn.cursor()\n",
    "def player_fatigue(cursor):\n",
    "    query = \"\"\"\n",
    "        SELECT AVG(PlayerFatigue) AS AvgFatigue,\n",
    "            MAX(PlayerFatigue) AS MaxFatigue,\n",
    "            MIN(PlayerFatigue) AS MinFatigue,\n",
    "            COUNT(*) AS NumOfPlayers\n",
    "        FROM \n",
    "            PlayerPerformanceMetrics \n",
    "        GROUP BY\n",
    "            Player;\n",
    "    \"\"\"\n",
    "    cursor.execute(query)\n",
    "    results = cursor.fetchall()\n",
    "    return results\n",
    "\n",
    "player_fatigue_data = player_fatigue(cursor)\n",
    "for row in player_fatigue_data: \n",
    "    avg_fatigue, max_fatigue, min_fatigue, num_players = row\n",
    "    print(f\"Avg Fatigue: {avg_fatigue}, Max Fatigue: {max_fatigue}, Min Fatigue: {min_fatigue}, Num Of Players: {num_players}\")\n",
    "cursor.close()\n",
    "conn.close()"
   ]
  },
  {
   "cell_type": "markdown",
   "id": "88f1817e",
   "metadata": {},
   "source": [
    "### 4. Data Security and Access Control Mechanisms  "
   ]
  },
  {
   "cell_type": "code",
   "execution_count": 26,
   "id": "79f7480f",
   "metadata": {},
   "outputs": [
    {
     "name": "stdout",
     "output_type": "stream",
     "text": [
      "User new_user_1 created successfully\n",
      "UPDATE privileges granted to new_user_1\n"
     ]
    }
   ],
   "source": [
    "conn = mysql.connector.connect(\n",
    "    host=\"localhost\",\n",
    "    user=\"root\",\n",
    "    password=\"HithaChoudhary.21\",\n",
    "    database=\"sports_data\",\n",
    "    port='3307'\n",
    ")\n",
    "cursor = conn.cursor()\n",
    "\n",
    "#Create a new user\n",
    "def create_user(username, password):\n",
    "    query = f\"CREATE USER '{username}'@'localhost' IDENTIFIED BY '{password}'\"\n",
    "    cursor.execute(query)\n",
    "    print(f\"User {username} created successfully\")\n",
    "\n",
    "#Grant privileges to the user\n",
    "def grant_privileges(username, database):\n",
    "    query = f\"GRANT ALL PRIVILEGES ON {database}.* TO '{username}'@'localhost'\"\n",
    "    cursor.execute(query)\n",
    "    print(f\"Privileges granted to {username}\")\n",
    "\n",
    "#Grant specific privileges to the user\n",
    "def grant_specific_privileges(username, database, privileges):\n",
    "    query = f\"GRANT {privileges} ON {database}.* TO '{username}'@'localhost'\"\n",
    "    cursor.execute(query)\n",
    "    print(f\"{privileges} privileges granted to {username}\")\n",
    "    \n",
    "#Revoke privileges from the user\n",
    "def revoke_privileges(username, database):\n",
    "    query = f\"REVOKE ALL PRIVILEGES ON {database}.* FROM '{username}'@'localhost'\"\n",
    "    cursor.execute(query)\n",
    "    print(f\"Privileges revoked from {username}\")\n",
    "\n",
    "#Revoke specific privileges from the user\n",
    "def revoke_specific_privileges(username, database, privileges):\n",
    "    query = f\"REVOKE {privileges} ON {database}.* FROM '{username}'@'localhost'\"\n",
    "    cursor.execute(query)\n",
    "    print(f\"{privileges} privileges revoked from {username}\")\n",
    "    \n",
    "#Drop user\n",
    "def drop_user(username):\n",
    "    query = f\"DROP USER '{username}'@'localhost'\"\n",
    "    cursor.execute(query)\n",
    "    print(f\"User {username} dropped successfully\")\n",
    "\n",
    "#Usage example\n",
    "create_user('new_user_1', '1234sql')\n",
    "#Granting only the specified privileges\n",
    "#Different privileges include SELECT, INSERT, UPDATE, DELETE, CREATE, DROP, ALTER, GRANT OPTION, ALL PRIVILEGES:\n",
    "grant_specific_privileges('new_user_1', 'sports_data','UPDATE')\n",
    "\n",
    "conn.commit()\n",
    "conn.close()"
   ]
  },
  {
   "cell_type": "code",
   "execution_count": null,
   "id": "4e49582b",
   "metadata": {},
   "outputs": [],
   "source": []
  }
 ],
 "metadata": {
  "kernelspec": {
   "display_name": "Python 3 (ipykernel)",
   "language": "python",
   "name": "python3"
  },
  "language_info": {
   "codemirror_mode": {
    "name": "ipython",
    "version": 3
   },
   "file_extension": ".py",
   "mimetype": "text/x-python",
   "name": "python",
   "nbconvert_exporter": "python",
   "pygments_lexer": "ipython3",
   "version": "3.9.12"
  }
 },
 "nbformat": 4,
 "nbformat_minor": 5
}
