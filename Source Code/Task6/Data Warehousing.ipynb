{
 "cells": [
  {
   "cell_type": "markdown",
   "id": "0b3b170d",
   "metadata": {},
   "source": [
    "<div style=\"background-color: #CD5C5C; padding: 20px; border-radius: 10px; box-shadow: 5px 5px 10px #888888;\">\n",
    "  <h1 style=\"color: white; font-size: 30px; font-weight: bold; text-align: center; text-shadow: 2px 2px 4px #000000;\">Sports Data Analysis: Problem Statement 6\n",
    "</h1>\n",
    "</div>"
   ]
  },
  {
   "cell_type": "markdown",
   "id": "b73bd132",
   "metadata": {},
   "source": [
    "### 1. Creation of tables using MySQL workbench  \n",
    "\n",
    "The tables that are required for the database was created using MySQL Workbench and succesfully loaded the data from the csv file to the tables created"
   ]
  },
  {
   "cell_type": "code",
   "execution_count": 1,
   "id": "424c1b7b",
   "metadata": {},
   "outputs": [
    {
     "name": "stderr",
     "output_type": "stream",
     "text": [
      "C:\\Users\\hithachoudhary\\anaconda3\\lib\\site-packages\\pandas\\core\\computation\\expressions.py:21: UserWarning: Pandas requires version '2.8.4' or newer of 'numexpr' (version '2.8.1' currently installed).\n",
      "  from pandas.core.computation.check import NUMEXPR_INSTALLED\n",
      "C:\\Users\\hithachoudhary\\anaconda3\\lib\\site-packages\\pandas\\core\\arrays\\masked.py:60: UserWarning: Pandas requires version '1.3.6' or newer of 'bottleneck' (version '1.3.4' currently installed).\n",
      "  from pandas.core import (\n"
     ]
    },
    {
     "name": "stdout",
     "output_type": "stream",
     "text": [
      "The tables present in the database:\n",
      "('football_data',)\n",
      "('overallperformance',)\n",
      "('playerattributes',)\n",
      "('playerinfo',)\n",
      "('playermatchinfo',)\n",
      "('playermatchperformance',)\n"
     ]
    }
   ],
   "source": [
    "import pandas as pd\n",
    "import mysql.connector\n",
    "from mysql.connector import Error\n",
    "\n",
    "mydb = mysql.connector.connect(\n",
    "    host=\"localhost\",\n",
    "    user=\"root\",\n",
    "    password=\"HithaChoudhary.21\",\n",
    "    database=\"sports_data\",\n",
    "    port='3307')\n",
    " \n",
    "mycursor = mydb.cursor()\n",
    "mycursor.execute(\"Show tables;\")\n",
    "myresult = mycursor.fetchall()\n",
    "print(\"The tables present in the database:\")\n",
    "for x in myresult:\n",
    "    print(x)"
   ]
  },
  {
   "cell_type": "markdown",
   "id": "c07836d6",
   "metadata": {},
   "source": [
    "### 2. Advanced sql features like CTEs-Common Table Expression  \n",
    "\n",
    "Executing an example usage of CTE for representing top players in the dataset"
   ]
  },
  {
   "cell_type": "code",
   "execution_count": 2,
   "id": "45f779cd",
   "metadata": {},
   "outputs": [
    {
     "name": "stdout",
     "output_type": "stream",
     "text": [
      "Top Players:\n",
      "(15347, 'Player C', 'Team C', 50, 1)\n",
      "(15404, 'Player C', 'Team A', 50, 2)\n",
      "(15595, 'Player A', 'Team B', 50, 3)\n",
      "(15787, 'Player C', 'Team B', 50, 4)\n",
      "(16047, 'Player C', 'Team C', 50, 5)\n",
      "(16425, 'Player C', 'Team A', 50, 6)\n",
      "(10406, 'Player B', 'Team B', 50, 7)\n",
      "(10869, 'Player B', 'Team C', 50, 8)\n",
      "(10897, 'Player D', 'Team C', 50, 9)\n",
      "(10944, 'Player B', 'Team A', 50, 10)\n",
      "MySQL connection is closed\n",
      "top_players created\n"
     ]
    }
   ],
   "source": [
    "def create_top_players():\n",
    "    try:\n",
    "        conn = mysql.connector.connect(\n",
    "            host=\"localhost\",\n",
    "            user=\"root\",\n",
    "            password=\"HithaChoudhary.21\",\n",
    "            database=\"sports_data\",\n",
    "            port='3307'\n",
    "        )\n",
    "\n",
    "        #Create cursor\n",
    "        cursor = conn.cursor()\n",
    "        #Define the CTE query to select top players\n",
    "        cte_query = \"\"\"\n",
    "            WITH TopPlayer AS (\n",
    "                SELECT\n",
    "                    ID,\n",
    "                    Player,\n",
    "                    Team,\n",
    "                    Goals,\n",
    "                    Season,\n",
    "                    ROW_NUMBER() OVER (ORDER BY Goals DESC) AS PlayerRank\n",
    "                FROM\n",
    "                    football_data\n",
    "            )\n",
    "            SELECT\n",
    "               ID,\n",
    "                Player,\n",
    "                Team,\n",
    "                Goals,\n",
    "                PlayerRank\n",
    "            FROM\n",
    "                TopPlayer\n",
    "            WHERE\n",
    "                PlayerRank <= 10\n",
    "        \"\"\"\n",
    "        cursor.execute(cte_query)\n",
    "        top_players = cursor.fetchall()\n",
    "        print(\"Top Players:\")\n",
    "        for player in top_players:\n",
    "            print(player)\n",
    "\n",
    "    except mysql.connector.Error as error:\n",
    "        print(\"Error:\", error)\n",
    "\n",
    "    finally:\n",
    "        if conn.is_connected():\n",
    "            cursor.close()\n",
    "            conn.close()\n",
    "            print(\"MySQL connection is closed\")\n",
    "\n",
    "# Call the function to create the CTE for top players\n",
    "create_top_players()\n",
    "print('top_players created')"
   ]
  },
  {
   "cell_type": "markdown",
   "id": "e363b320",
   "metadata": {},
   "source": [
    "### 3. Complex Analytical Queries  \n",
    "\n",
    "Ensuring that the data stored supports complex analytical queries by executing them "
   ]
  },
  {
   "cell_type": "markdown",
   "id": "9614fbbd",
   "metadata": {},
   "source": [
    "#### 3.1 Average goals per Match  \n",
    "Calculating the average goals per match"
   ]
  },
  {
   "cell_type": "code",
   "execution_count": 3,
   "id": "06cd5321",
   "metadata": {},
   "outputs": [
    {
     "name": "stdout",
     "output_type": "stream",
     "text": [
      "Defender: 12.95 goals per match on average\n",
      "Forward: 12.45 goals per match on average\n",
      "Goalkeeper: 12.77 goals per match on average\n",
      "Midfielder: 12.79 goals per match on average\n"
     ]
    }
   ],
   "source": [
    "conn = mysql.connector.connect(\n",
    "            host=\"localhost\",\n",
    "            user=\"root\",\n",
    "            password=\"HithaChoudhary.21\",\n",
    "            database=\"sports_data\",\n",
    "            port='3307')\n",
    "cursor = conn.cursor()\n",
    "def average_goals_per_match(cursor):\n",
    "    query = \"\"\"\n",
    "        SELECT Position, AVG(Goals) AS AvgGoalsPerMatch\n",
    "        FROM football_data\n",
    "        GROUP BY Position\n",
    "    \"\"\"\n",
    "    cursor.execute(query)\n",
    "    results = cursor.fetchall()\n",
    "    return results\n",
    "\n",
    "avg_goals_by_position = average_goals_per_match(cursor)\n",
    "for position, avg_goals in avg_goals_by_position:\n",
    "    print(f\"{position}: {avg_goals:.2f} goals per match on average\")\n",
    "    \n",
    "cursor.close()\n",
    "conn.close()"
   ]
  },
  {
   "cell_type": "markdown",
   "id": "b4591e55",
   "metadata": {},
   "source": [
    "#### 3.2 Average Pass Completion Rate \n",
    "\n",
    "Analyzing the average pass completion rate of each player during the latest season"
   ]
  },
  {
   "cell_type": "code",
   "execution_count": 8,
   "id": "09f36286",
   "metadata": {},
   "outputs": [
    {
     "name": "stdout",
     "output_type": "stream",
     "text": [
      "Player: Player D, Average Pass Completion Rate: 77.05\n",
      "Player: Player A, Average Pass Completion Rate: 76.87\n",
      "Player: Player B, Average Pass Completion Rate: 76.60\n",
      "Player: Player C, Average Pass Completion Rate: 76.17\n"
     ]
    }
   ],
   "source": [
    "mydb = mysql.connector.connect(\n",
    "   host=\"localhost\",\n",
    "            user=\"root\",\n",
    "            password=\"HithaChoudhary.21\",\n",
    "            database=\"sports_data\",\n",
    "            port='3307')\n",
    "cursor = mydb.cursor()\n",
    "\n",
    "query = \"\"\"\n",
    "SELECT \n",
    "    pi.Player,\n",
    "    AVG(pp.PassCompletionRate) AS AvgPassCompletionRate\n",
    "FROM \n",
    "    PlayerInfo pi\n",
    "INNER JOIN\n",
    "    PlayerMatchInfo pm on pi.ID = pm.ID \n",
    "INNER JOIN \n",
    "    PlayerMatchPerformance pp ON pi.ID = pp.ID\n",
    "WHERE \n",
    "    pm.Season = (SELECT MAX(Season) FROM PlayerMatchInfo) -- Latest season\n",
    "GROUP BY \n",
    "    pi.Player\n",
    "ORDER BY \n",
    "    AvgPassCompletionRate DESC;\n",
    "\"\"\"\n",
    "\n",
    "cursor.execute(query)\n",
    "results = cursor.fetchall()\n",
    "for row in results:\n",
    "    player_name, avg_pass_completion_rate = row\n",
    "    print(f\"Player: {player_name}, Average Pass Completion Rate: {avg_pass_completion_rate:.2f}\")\n",
    "cursor.close()\n",
    "mydb.close()"
   ]
  },
  {
   "cell_type": "markdown",
   "id": "88f1817e",
   "metadata": {},
   "source": [
    "### 4. Data Security and Access Control Mechanisms  "
   ]
  },
  {
   "cell_type": "code",
   "execution_count": 9,
   "id": "79f7480f",
   "metadata": {},
   "outputs": [
    {
     "name": "stdout",
     "output_type": "stream",
     "text": [
      "User new_user_ created successfully\n",
      "UPDATE privileges granted to new_user_\n"
     ]
    }
   ],
   "source": [
    "conn = mysql.connector.connect(\n",
    "    host=\"localhost\",\n",
    "    user=\"root\",\n",
    "    password=\"HithaChoudhary.21\",\n",
    "    database=\"sports_data\",\n",
    "    port='3307'\n",
    ")\n",
    "cursor = conn.cursor()\n",
    "\n",
    "#Create a new user\n",
    "def create_user(username, password):\n",
    "    query = f\"CREATE USER '{username}'@'localhost' IDENTIFIED BY '{password}'\"\n",
    "    cursor.execute(query)\n",
    "    print(f\"User {username} created successfully\")\n",
    "\n",
    "#Grant privileges to the user\n",
    "def grant_privileges(username, database):\n",
    "    query = f\"GRANT ALL PRIVILEGES ON {database}.* TO '{username}'@'localhost'\"\n",
    "    cursor.execute(query)\n",
    "    print(f\"Privileges granted to {username}\")\n",
    "\n",
    "#Grant specific privileges to the user\n",
    "def grant_specific_privileges(username, database, privileges):\n",
    "    query = f\"GRANT {privileges} ON {database}.* TO '{username}'@'localhost'\"\n",
    "    cursor.execute(query)\n",
    "    print(f\"{privileges} privileges granted to {username}\")\n",
    "    \n",
    "#Revoke privileges from the user\n",
    "def revoke_privileges(username, database):\n",
    "    query = f\"REVOKE ALL PRIVILEGES ON {database}.* FROM '{username}'@'localhost'\"\n",
    "    cursor.execute(query)\n",
    "    print(f\"Privileges revoked from {username}\")\n",
    "\n",
    "#Revoke specific privileges from the user\n",
    "def revoke_specific_privileges(username, database, privileges):\n",
    "    query = f\"REVOKE {privileges} ON {database}.* FROM '{username}'@'localhost'\"\n",
    "    cursor.execute(query)\n",
    "    print(f\"{privileges} privileges revoked from {username}\")\n",
    "    \n",
    "#Drop user\n",
    "def drop_user(username):\n",
    "    query = f\"DROP USER '{username}'@'localhost'\"\n",
    "    cursor.execute(query)\n",
    "    print(f\"User {username} dropped successfully\")\n",
    "\n",
    "#Usage example\n",
    "create_user('new_user_', '@@@ql')\n",
    "#Granting only the specified privileges\n",
    "#Different privileges include SELECT, INSERT, UPDATE, DELETE, CREATE, DROP, ALTER, GRANT OPTION, ALL PRIVILEGES:\n",
    "grant_specific_privileges('new_user_', 'sports_data','UPDATE')\n",
    "\n",
    "conn.commit()\n",
    "conn.close()"
   ]
  },
  {
   "cell_type": "code",
   "execution_count": null,
   "id": "4e49582b",
   "metadata": {},
   "outputs": [],
   "source": []
  }
 ],
 "metadata": {
  "kernelspec": {
   "display_name": "Python 3 (ipykernel)",
   "language": "python",
   "name": "python3"
  },
  "language_info": {
   "codemirror_mode": {
    "name": "ipython",
    "version": 3
   },
   "file_extension": ".py",
   "mimetype": "text/x-python",
   "name": "python",
   "nbconvert_exporter": "python",
   "pygments_lexer": "ipython3",
   "version": "3.9.12"
  }
 },
 "nbformat": 4,
 "nbformat_minor": 5
}
